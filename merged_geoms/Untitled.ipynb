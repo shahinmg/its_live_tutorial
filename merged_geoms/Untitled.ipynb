{
 "cells": [
  {
   "cell_type": "code",
   "execution_count": 2,
   "id": "d14d3586-a334-4f3a-ab0d-5fa6c5bfe787",
   "metadata": {},
   "outputs": [
    {
     "name": "stderr",
     "output_type": "stream",
     "text": [
      "/home/laserglaciers/anaconda3/envs/its_live_tutorial/lib/python3.10/site-packages/geopandas/io/file.py:399: FutureWarning: errors='ignore' is deprecated and will raise in a future version. Use to_datetime without passing `errors` and catch exceptions explicitly instead\n",
      "  as_dt = pd.to_datetime(df[k], errors=\"ignore\")\n"
     ]
    }
   ],
   "source": [
    "import geopandas as gpd\n",
    "\n",
    "df = gpd.read_file('/media/laserglaciers/upernavik/its_live_tutorial/merged_geoms/kuj_merged.gpkg')"
   ]
  },
  {
   "cell_type": "code",
   "execution_count": 3,
   "id": "55d2494a-79b5-4dac-8959-74cc0f725b80",
   "metadata": {},
   "outputs": [
    {
     "data": {
      "text/html": [
       "<div>\n",
       "<style scoped>\n",
       "    .dataframe tbody tr th:only-of-type {\n",
       "        vertical-align: middle;\n",
       "    }\n",
       "\n",
       "    .dataframe tbody tr th {\n",
       "        vertical-align: top;\n",
       "    }\n",
       "\n",
       "    .dataframe thead th {\n",
       "        text-align: right;\n",
       "    }\n",
       "</style>\n",
       "<table border=\"1\" class=\"dataframe\">\n",
       "  <thead>\n",
       "    <tr style=\"text-align: right;\">\n",
       "      <th></th>\n",
       "      <th>date</th>\n",
       "      <th>geometry</th>\n",
       "    </tr>\n",
       "  </thead>\n",
       "  <tbody>\n",
       "    <tr>\n",
       "      <th>0</th>\n",
       "      <td>1975-05-28</td>\n",
       "      <td>POLYGON ((-199287.272 -2181829.050, -201340.29...</td>\n",
       "    </tr>\n",
       "    <tr>\n",
       "      <th>1</th>\n",
       "      <td>1976-05-03</td>\n",
       "      <td>POLYGON ((-199397.285 -2181891.815, -201290.87...</td>\n",
       "    </tr>\n",
       "    <tr>\n",
       "      <th>2</th>\n",
       "      <td>1978-07-03</td>\n",
       "      <td>POLYGON ((-199510.281 -2181658.001, -201350.32...</td>\n",
       "    </tr>\n",
       "    <tr>\n",
       "      <th>3</th>\n",
       "      <td>1985-03-29</td>\n",
       "      <td>POLYGON ((-199663.310 -2181698.266, -201334.74...</td>\n",
       "    </tr>\n",
       "    <tr>\n",
       "      <th>4</th>\n",
       "      <td>1985-04-14</td>\n",
       "      <td>POLYGON ((-198851.917 -2176593.291, -196540.73...</td>\n",
       "    </tr>\n",
       "    <tr>\n",
       "      <th>...</th>\n",
       "      <td>...</td>\n",
       "      <td>...</td>\n",
       "    </tr>\n",
       "    <tr>\n",
       "      <th>920</th>\n",
       "      <td>2021-05-13</td>\n",
       "      <td>POLYGON ((-199028.903 -2181622.914, -201356.83...</td>\n",
       "    </tr>\n",
       "    <tr>\n",
       "      <th>921</th>\n",
       "      <td>2021-05-17</td>\n",
       "      <td>POLYGON ((-199082.570 -2181648.338, -201353.84...</td>\n",
       "    </tr>\n",
       "    <tr>\n",
       "      <th>922</th>\n",
       "      <td>2021-05-18</td>\n",
       "      <td>POLYGON ((-199050.566 -2181721.063, -201344.33...</td>\n",
       "    </tr>\n",
       "    <tr>\n",
       "      <th>923</th>\n",
       "      <td>2021-05-21</td>\n",
       "      <td>POLYGON ((-199043.882 -2181592.987, -201424.24...</td>\n",
       "    </tr>\n",
       "    <tr>\n",
       "      <th>924</th>\n",
       "      <td>2021-05-27</td>\n",
       "      <td>POLYGON ((-199064.058 -2181675.366, -201355.99...</td>\n",
       "    </tr>\n",
       "  </tbody>\n",
       "</table>\n",
       "<p>925 rows × 2 columns</p>\n",
       "</div>"
      ],
      "text/plain": [
       "          date                                           geometry\n",
       "0   1975-05-28  POLYGON ((-199287.272 -2181829.050, -201340.29...\n",
       "1   1976-05-03  POLYGON ((-199397.285 -2181891.815, -201290.87...\n",
       "2   1978-07-03  POLYGON ((-199510.281 -2181658.001, -201350.32...\n",
       "3   1985-03-29  POLYGON ((-199663.310 -2181698.266, -201334.74...\n",
       "4   1985-04-14  POLYGON ((-198851.917 -2176593.291, -196540.73...\n",
       "..         ...                                                ...\n",
       "920 2021-05-13  POLYGON ((-199028.903 -2181622.914, -201356.83...\n",
       "921 2021-05-17  POLYGON ((-199082.570 -2181648.338, -201353.84...\n",
       "922 2021-05-18  POLYGON ((-199050.566 -2181721.063, -201344.33...\n",
       "923 2021-05-21  POLYGON ((-199043.882 -2181592.987, -201424.24...\n",
       "924 2021-05-27  POLYGON ((-199064.058 -2181675.366, -201355.99...\n",
       "\n",
       "[925 rows x 2 columns]"
      ]
     },
     "execution_count": 3,
     "metadata": {},
     "output_type": "execute_result"
    }
   ],
   "source": [
    "df"
   ]
  },
  {
   "cell_type": "code",
   "execution_count": null,
   "id": "03cce87e-a791-49db-bbeb-b5d617bfa724",
   "metadata": {},
   "outputs": [],
   "source": []
  }
 ],
 "metadata": {
  "kernelspec": {
   "display_name": "Python 3 (ipykernel)",
   "language": "python",
   "name": "python3"
  },
  "language_info": {
   "codemirror_mode": {
    "name": "ipython",
    "version": 3
   },
   "file_extension": ".py",
   "mimetype": "text/x-python",
   "name": "python",
   "nbconvert_exporter": "python",
   "pygments_lexer": "ipython3",
   "version": "3.10.13"
  }
 },
 "nbformat": 4,
 "nbformat_minor": 5
}
